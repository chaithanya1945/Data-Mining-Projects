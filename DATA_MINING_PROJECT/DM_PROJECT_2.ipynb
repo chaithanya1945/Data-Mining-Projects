{
 "cells": [
  {
   "cell_type": "raw",
   "metadata": {},
   "source": [
    "---\n",
    "output: \n",
    "  pdf_document:\n",
    "    citation_package: natbib\n",
    "    keep_tex: true\n",
    "    fig_caption: true\n",
    "    latex_engine: pdflatex\n",
    "    template: svm-latex-ms.tex\n",
    "title: \"MCIS6273 Data Mining Project: Clustering and Basic Classification\"\n",
    "thanks: \n",
    "author:\n",
    "- name: Keith Maull\n",
    "  affiliation: Adjunct Instructor / MCIS Department - Southern Arkansas University\n",
    "abstract: \"In this homework you will apply some of what you have learned about clustering and classification through the extended use of Scikit-learn, Numpy and Pandas.\"\n",
    "keywords: \"clustering, k-means, classification, data analysis, agglomerative clustering\"\n",
    "date: \"`r format(Sys.time(), '%B %d, %Y')`\"\n",
    "geometry: margin=1in\n",
    "fontfamily: mathpazo\n",
    "fontsize: 11pt\n",
    "# spacing: double\n",
    "bibliography: \n",
    "biblio-style: apsr\n",
    "---"
   ]
  },
  {
   "cell_type": "markdown",
   "metadata": {},
   "source": [
    "# Project / Clustering and Basic Classification"
   ]
  },
  {
   "cell_type": "markdown",
   "metadata": {
    "collapsed": true
   },
   "source": [
    "__This Project is worth up to 30 POINTS to your grade total if you turn it in on time. "
   ]
  },
  {
   "cell_type": "markdown",
   "metadata": {},
   "source": [
    "## OBJECTIVES\n",
    "* Learn some of the clustering features of [Scikit-learn](http://scikit-learn.org/stable/modules/clustering.html) to do partitioning and hierarchical clustering ($k$-Means and hierarchical clustering algorithms);\n",
    "* Learn about document clustering, and document similarity scoring using TFIDF;\n",
    "* Using built-in $k$-nearest neighbor and interpret the output in Scikit-learn -- this is an extension of the implementation you did last time;\n",
    "* Learn how to binarize categorical variables in Scikit-learn;\n",
    "* Learn how to use `DecisionTreeClassifier` to build a basic classifier."
   ]
  },
  {
   "cell_type": "markdown",
   "metadata": {},
   "source": [
    "## WHAT TO TURN IN\n",
    "\n",
    "You are being encouraged to turn the assignment in using the provided Jupyter Notebook.  To do so, clone the repository and modify the `Homework2.ipynb` file in the `HOMEWORK/02` directory.\n",
    "\n",
    "\n",
    "Turn in a copy of a ipynb file OR a PDF or Word Document to Blackboard with the answers to the questions labeled with the &#167; sign."
   ]
  },
  {
   "cell_type": "markdown",
   "metadata": {},
   "source": [
    "## RESOURCES\n",
    "\n",
    "| What | Where |\n",
    "|:----------------------------------:|:---------------------:|\n",
    "| SciPy clustering documentation | [SciPy.org](http://scikit-learn.org/stable/modules/clustering.html) |\n",
    "| A very recent (Oct. 3, 2016) write up on Data Mining in Python. | [Data Mining and Algorithms (Springboard Education)](https://www.springboard.com/blog/data-mining-python-tutorial/) |\n",
    "| A nice writeup on $k$-means. | [Clustering With K-Means in Python (The Data Science Lab)](https://datasciencelab.wordpress.com/2013/12/12/clustering-with-k-means-in-python/) |\n",
    "|TFIDF in Scikit-learn. |[Scikit-learn Text Feature Extraction](http://scikit-learn.org/stable/modules/feature_extraction.html#text-feature-extraction)|\n",
    "|**DATASET** of top 1000 movies on IMDB by user ratings.  This data has been stored in the [data directory](./data). | [IMDB Top 1000 @ icheckmovies.com](https://www.icheckmovies.com/lists/imdb+top+1000/lampadatriste/) |\n",
    "|**API** that is used to access IMDB movie metadata. | [OMDB API at omdbapi.com](http://omdbapi.com/) |\n",
    "|**DATASET** of consumer debt complaints. | [US Federal Consumer Financial Protection Bureau](http://www.consumerfinance.gov/data-research/consumer-complaints/) |"
   ]
  },
  {
   "cell_type": "markdown",
   "metadata": {},
   "source": [
    "## HOW TO COMPLETE THIS PROJECT + PROJECT DETAILS"
   ]
  },
  {
   "cell_type": "markdown",
   "metadata": {},
   "source": [
    "### DATA FOR PART 1\n",
    "\n",
    "We will be using data from [IMDB](http://imdb.com) and working with movie data.  IMDB is a movie database that is widely used to learn about (and rate) movies.  Much of the work around movies focuses on predicting ratings -- for example, the [Netflix Prize contest](http://netflixprize.com/) was designed to encourage developers to explore better algorithms for rating movies.  Instead of predicting ratings, we will work instead with **clustering the plots of movies**.  Data will come from the [OMDB API](http://omdbapi.com/) which allows a developer to extract information from IMDB programmatically since there is no open public API directly published by IMDB. \n",
    "\n",
    "You can view the [notebook here](./preliminaries.ipynb) to see how the data was extracted, but you can skip that step and look directly at the file which is the output of that data.  Also, you can find the data for this assignment in [`data`](./data) directory, and in it you will see a TSV file called \n",
    "\n",
    "* [data/top1000_movie_summaries.tsv](./data/top1000_movie_summaries.tsv).\n",
    "\n",
    "In that file, you will notice 1000 movie summaries -- the first column is the movie name, the second is the plot summary from OMDB and looks like this:\n",
    "\n",
    "```txt\n",
    "...\n",
    "The Shawshank Redemption\tChronicles the experiences of a formerly successful banker as a prisoner in the gloomy jailhouse of Shawshank after being found guilty of a crime he did not commit. The film portrays the man's unique way of dealing with his new, torturous life; along the way he befriends a number of fellow prisoners, most notably a wise long-term inmate named Red.\n",
    "The Godfather\tWhen the aging head of a famous crime family decides to transfer his position to one of his subalterns, a series of unfortunate events start happening to the family, and a war begins between all the well-known families leading to insolence, deportation, murder and revenge, and ends with the favorable successor being finally chosen.\n",
    "The Godfather: Part II\tThe continuing saga of the Corleone crime family tells the story of a young Vito Corleone growing up in Sicily and in 1910s New York; and follows Michael Corleone in the 1950s as he attempts to expand the family business into Las Vegas, Hollywood and Cuba.\n",
    "...\n",
    "```"
   ]
  },
  {
   "cell_type": "markdown",
   "metadata": {},
   "source": [
    "### BACKGROUND FOR PART 1 \n",
    "Document clutstering is a common task in text mining and has broad applications in a variety of contexts.  In the unsupervised context, such clustering provides insights into a set of documents and the common features they share.  In the supervised context such clustering allows one to train and subsequently classify documents.  For example, if one were to determine of a document is of a certain kind (e.g. legal, academic) one can use labeled instances to learn the features that would allow the discrimination of unlabeled/unseen instances.\n",
    "\n",
    "There are several good resources in information retrieval that you may want to bookmark for future reference in text mining and information retrieval generally:\n",
    "\n",
    "* Manning, C.D., Raghavan, P. and Schütze, H. (2008) Introduction to Information Retrieval.  doi:  [http://dx.doi.org/10.1017/CBO9780511809071](http://dx.doi.org/10.1017/CBO9780511809071);  Available at: [Stanford NLP - Information Retrieval](http://nlp.stanford.edu/IR-book/information-retrieval-book.html).\n",
    "\n",
    "\n",
    "\n",
    "#### DOCUMENT ANALYSIS: TERM FREQUENCY (TF) AND INVERSE DOCUMENT FREQUENCY (TF)\n",
    "\n",
    "The intuition behind analyzing words in documents hinges on the following:\n",
    "\n",
    "* terms that are frequent _in documents_ are given higher importance than those that are infrequent\n",
    "* terms that are frequent _across_ documents are not considered as important\n",
    "\n",
    "that is _common_ words across an entire corpus are *discounted* while \n",
    "those that are _common_ within documents are *boosted*.\n",
    "\n",
    "\n",
    "#### DOCUMENT ANALYSIS: TERM FREQUENCY INVERSE DOCUMENT FREQUENCY (TFIDF)\n",
    "\n",
    "To realize the above, we will introduce a concept all TFIDF, which is composed of two parts, the TF (or **term frequency**) and the IDF (**inverse document frequency**).\n",
    "\n",
    "Let's break these two down and then put them back together.\n",
    "\n",
    "**Term frequency (TF)** is a simple concept and is exactly as it says: the _counts_ of terms in a document.  So for a term (word) $t$ and document $d$, the TF is just the number of occurences of $t$ in $d$,\n",
    "\n",
    "$$\\textrm{tf}(t,d) = \\big| t \\in d \\big|$$\n",
    "\n",
    "**Inverse document frequency (IDF)** provides a way to determine if a terms is rare or common given _all_ documents $D$, and is logarithmically scaled so rare terms avoid completely disappearing.  Thus,\n",
    "\n",
    "$$\n",
    "\\textrm{idf}(t,D) = { \\big| D \\big| \\over {1 + \\big| \\{t \\in d | d \\in D \\} \\big| } }\n",
    "$$\n",
    "\n",
    "**TFIDF** is thus: for a set of documents (corpus) $D$ and document $d \\in D$ and terms $t \\in d$,\n",
    "\n",
    "$$\n",
    "\\textrm{tfidf}(t,d,D)= \\textrm{tf}(t,d,D) \\cdot \\textrm{idf}(t,D)\n",
    "$$"
   ]
  },
  {
   "cell_type": "markdown",
   "metadata": {},
   "source": [
    "#### TFIDF in ScikitLearn\n",
    "Luckily we need only recall the details of the notions of these techniques and not implement them.  In Scikitlearn, most of the machinery of TFIDF is done for us using `CountVectorizer`, [TfidfVectorizer](http://scikit-learn.org/stable/modules/generated/sklearn.feature_extraction.text.TfidfVectorizer.html#sklearn.feature_extraction.text.TfidfVectorizer) and [TfidfTransformer](http://scikit-learn.org/stable/modules/generated/sklearn.feature_extraction.text.TfidfTransformer.html#sklearn.feature_extraction.text.TfidfTransformer)."
   ]
  },
  {
   "cell_type": "code",
   "execution_count": 2,
   "metadata": {
    "collapsed": true
   },
   "outputs": [],
   "source": [
    "%matplotlib inline"
   ]
  },
  {
   "cell_type": "markdown",
   "metadata": {},
   "source": [
    "### A TFIDF Example\n",
    "\n",
    "Let us consider loading the first 50 plots of the plots file.  The code below will read the first 50 lines of the plot summary file and store them in a `dict` for further processing."
   ]
  },
  {
   "cell_type": "code",
   "execution_count": 1,
   "metadata": {
    "collapsed": false
   },
   "outputs": [
    {
     "ename": "IOError",
     "evalue": "[Errno 2] No such file or directory: './data/top1000_movie_summaries.tsv'",
     "output_type": "error",
     "traceback": [
      "\u001b[1;31m---------------------------------------------------------------------------\u001b[0m",
      "\u001b[1;31mIOError\u001b[0m                                   Traceback (most recent call last)",
      "\u001b[1;32m<ipython-input-1-6890ef4d1d22>\u001b[0m in \u001b[0;36m<module>\u001b[1;34m()\u001b[0m\n\u001b[0;32m      2\u001b[0m \u001b[1;33m\u001b[0m\u001b[0m\n\u001b[0;32m      3\u001b[0m \u001b[0mplots_50\u001b[0m \u001b[1;33m=\u001b[0m \u001b[1;33m{\u001b[0m\u001b[1;33m}\u001b[0m\u001b[1;33m\u001b[0m\u001b[0m\n\u001b[1;32m----> 4\u001b[1;33m \u001b[1;32mwith\u001b[0m \u001b[0mopen\u001b[0m\u001b[1;33m(\u001b[0m\u001b[1;34m\"./data/top1000_movie_summaries.tsv\"\u001b[0m\u001b[1;33m)\u001b[0m \u001b[1;32mas\u001b[0m \u001b[0mfi\u001b[0m\u001b[1;33m:\u001b[0m\u001b[1;33m\u001b[0m\u001b[0m\n\u001b[0m\u001b[0;32m      5\u001b[0m     \u001b[0mtsvReader\u001b[0m \u001b[1;33m=\u001b[0m \u001b[0mcsv\u001b[0m\u001b[1;33m.\u001b[0m\u001b[0mreader\u001b[0m\u001b[1;33m(\u001b[0m\u001b[0mfi\u001b[0m\u001b[1;33m,\u001b[0m \u001b[0mdelimiter\u001b[0m\u001b[1;33m=\u001b[0m\u001b[1;34m'\\t'\u001b[0m\u001b[1;33m)\u001b[0m\u001b[1;33m\u001b[0m\u001b[0m\n\u001b[0;32m      6\u001b[0m     \u001b[1;32mfor\u001b[0m \u001b[0mi\u001b[0m\u001b[1;33m,\u001b[0m \u001b[1;33m(\u001b[0m\u001b[0mtitle\u001b[0m\u001b[1;33m,\u001b[0m \u001b[0mplot\u001b[0m\u001b[1;33m)\u001b[0m \u001b[1;32min\u001b[0m \u001b[0menumerate\u001b[0m\u001b[1;33m(\u001b[0m\u001b[0mtsvReader\u001b[0m\u001b[1;33m)\u001b[0m\u001b[1;33m:\u001b[0m\u001b[1;33m\u001b[0m\u001b[0m\n",
      "\u001b[1;31mIOError\u001b[0m: [Errno 2] No such file or directory: './data/top1000_movie_summaries.tsv'"
     ]
    }
   ],
   "source": [
    "import csv\n",
    "\n",
    "plots_50 = {}\n",
    "with open(\"./data/top1000_movie_summaries.tsv\") as fi:\n",
    "    tsvReader = csv.reader(fi, delimiter='\\t')\n",
    "    for i, (title, plot) in enumerate(tsvReader):\n",
    "        plots_50[title]=plot\n",
    "        if i == 49:\n",
    "            break"
   ]
  },
  {
   "cell_type": "code",
   "execution_count": 4,
   "metadata": {
    "collapsed": false,
    "scrolled": true
   },
   "outputs": [
    {
     "data": {
      "text/plain": [
       "[\"It's a Wonderful Life\",\n",
       " 'Seven Samurai',\n",
       " 'The Godfather: Part II',\n",
       " 'The Green Mile',\n",
       " 'Modern Times',\n",
       " 'Se7en',\n",
       " 'The Matrix',\n",
       " 'Sunset Boulevard',\n",
       " 'Once Upon a Time in the West',\n",
       " 'Memento']"
      ]
     },
     "execution_count": 4,
     "metadata": {},
     "output_type": "execute_result"
    }
   ],
   "source": [
    "plots_50.keys()[:10]"
   ]
  },
  {
   "cell_type": "markdown",
   "metadata": {},
   "source": [
    "Now that we have the data, we're going to use some built in implementations of Tfidf to do some interesting things with the docoment data.  Recall what we want is to create a way to represent all terms in the document, and then from there score the terms over _all documents_ and _within documents_.\n",
    "\n",
    "**IMPORTANT:** You should read the documentation in Scikit-learn about the [TfidfVectorizer]() to dig in deeper on this issue.\n",
    "\n",
    "**NOTE:** as input to the vectorizer, we must pass all the plot summaries dictionary given by `values()` which returns the dictionary values for all keys _in order_ they are stored in the dictionary. "
   ]
  },
  {
   "cell_type": "code",
   "execution_count": 5,
   "metadata": {
    "collapsed": false
   },
   "outputs": [],
   "source": [
    "from sklearn.feature_extraction.text import TfidfVectorizer\n",
    "vectorizer = TfidfVectorizer(min_df=1)\n",
    "# create the tfidf matrix\n",
    "tfidf_matrix = vectorizer.fit_transform(plots_50.values())\n",
    "\n",
    "# convert the matrix to an array - which reduces the sparseness of the matrix\n",
    "tfidf_array = tfidf_matrix.toarray()"
   ]
  },
  {
   "cell_type": "markdown",
   "metadata": {},
   "source": [
    "Now what we can do is see the terms and their tfidf scores.\n",
    "\n",
    "Let us consider the first find out what the terms of our corpus is -- recall these are just all the terms of the _plot summaries we have seen_, which are represented in the `plots_50` variable.\n",
    "\n",
    "Since there are **many** terms, we will just display the first 100!"
   ]
  },
  {
   "cell_type": "code",
   "execution_count": 6,
   "metadata": {
    "collapsed": false
   },
   "outputs": [
    {
     "data": {
      "text/plain": [
       "[u'000',\n",
       " u'1000',\n",
       " u'1100',\n",
       " u'12',\n",
       " u'15',\n",
       " u'17',\n",
       " u'1910s',\n",
       " u'1930s',\n",
       " u'1936',\n",
       " u'1944',\n",
       " u'1950s',\n",
       " u'2nd',\n",
       " u'30',\n",
       " u'40',\n",
       " u'abandoned',\n",
       " u'ability',\n",
       " u'abject',\n",
       " u'able',\n",
       " u'about',\n",
       " u'absolute',\n",
       " u'absolution',\n",
       " u'accepts',\n",
       " u'access',\n",
       " u'accidentally',\n",
       " u'accomplish',\n",
       " u'accused',\n",
       " u'action',\n",
       " u'actions',\n",
       " u'acts',\n",
       " u'addition',\n",
       " u'advance',\n",
       " u'advanced',\n",
       " u'adventure',\n",
       " u'adventurous',\n",
       " u'affected',\n",
       " u'african',\n",
       " u'after',\n",
       " u'again',\n",
       " u'against',\n",
       " u'agency',\n",
       " u'agent',\n",
       " u'aging',\n",
       " u'aid',\n",
       " u'alfred',\n",
       " u'alimony',\n",
       " u'alive',\n",
       " u'all',\n",
       " u'alleviate',\n",
       " u'alliance',\n",
       " u'allied',\n",
       " u'allowing',\n",
       " u'allows',\n",
       " u'ally',\n",
       " u'almost',\n",
       " u'alone',\n",
       " u'along',\n",
       " u'also',\n",
       " u'always',\n",
       " u'america',\n",
       " u'american',\n",
       " u'amid',\n",
       " u'amidst',\n",
       " u'amount',\n",
       " u'amusement',\n",
       " u'an',\n",
       " u'ancient',\n",
       " u'and',\n",
       " u'angel',\n",
       " u'angier',\n",
       " u'another',\n",
       " u'answers',\n",
       " u'apartment',\n",
       " u'approach',\n",
       " u'aragorn',\n",
       " u'archeology',\n",
       " u'are',\n",
       " u'area',\n",
       " u'aristocratic',\n",
       " u'ark',\n",
       " u'army',\n",
       " u'around',\n",
       " u'arrives',\n",
       " u'art',\n",
       " u'artifact',\n",
       " u'as',\n",
       " u'ashore',\n",
       " u'ask',\n",
       " u'asks',\n",
       " u'aspires',\n",
       " u'assassin',\n",
       " u'assigned',\n",
       " u'assignment',\n",
       " u'assistants',\n",
       " u'at',\n",
       " u'attack',\n",
       " u'attempt',\n",
       " u'attempts',\n",
       " u'aurelius',\n",
       " u'auschwitz',\n",
       " u'automatically']"
      ]
     },
     "execution_count": 6,
     "metadata": {},
     "output_type": "execute_result"
    }
   ],
   "source": [
    "vectorizer.get_feature_names()[:100]"
   ]
  },
  {
   "cell_type": "code",
   "execution_count": 7,
   "metadata": {
    "collapsed": false
   },
   "outputs": [
    {
     "data": {
      "text/plain": [
       "array([ 3.83321334,  4.23867845,  4.23867845, ...,  4.23867845,\n",
       "        2.53393036,  4.23867845])"
      ]
     },
     "execution_count": 7,
     "metadata": {},
     "output_type": "execute_result"
    }
   ],
   "source": [
    "vectorizer.idf_"
   ]
  },
  {
   "cell_type": "markdown",
   "metadata": {},
   "source": [
    "Now that we know what is represented, let's go forward with the tfidf array.  Remember that array stores the document (plot summary) tfidf scores (in the order they appear in the dictionary they are stored.\n",
    "\n",
    "Thus, if the first item in plots_50 is \"It's a Wonderful Life\" then `tfidf_array[0]` is the tfidf scores for that over all the words in the corpus.  \n",
    "\n",
    "Let's prove this so ..."
   ]
  },
  {
   "cell_type": "code",
   "execution_count": 8,
   "metadata": {
    "collapsed": false
   },
   "outputs": [
    {
     "data": {
      "text/plain": [
       "\"George Bailey has spent his entire life giving of himself to the people of Bedford Falls. He has always longed to travel but never had the opportunity in order to prevent rich skinflint Mr. Potter from taking over the entire town. All that prevents him from doing so is George's modest building and loan company, which was founded by his generous father. But on Christmas Eve, George's Uncle Billy loses the business's $8,000 while intending to deposit it in the bank. Potter finds the misplaced money and hides it from Billy. When the bank examiner discovers the shortage later that night, George realizes that he will be held responsible and sent to jail and the company will collapse, finally allowing Potter to take over the town. Thinking of his wife, their young children, and others he loves will be better off with him dead, he contemplates suicide. But the prayers of his loved ones result in a gentle angel named Clarence coming to earth to help George, with the promise of earning his wings. He shows George what things would have been like if he had never been born. In a nightmarish vision in which the Potter-controlled town is sunk in sex and sin, those George loves are either dead, ruined, or miserable. He realizes that he has touched many people in a positive way and that his life has truly been a wonderful one.\""
      ]
     },
     "execution_count": 8,
     "metadata": {},
     "output_type": "execute_result"
    }
   ],
   "source": [
    "plots_50[plots_50.keys()[0]]  # it's a wonderful life is the first movie"
   ]
  },
  {
   "cell_type": "markdown",
   "metadata": {},
   "source": [
    "The follow code will just return the scores from the first movie **only** for the terms with a score **greater than 0**."
   ]
  },
  {
   "cell_type": "code",
   "execution_count": 9,
   "metadata": {
    "collapsed": false
   },
   "outputs": [
    {
     "data": {
      "text/plain": [
       "[(0.13547779388675404, u'40'),\n",
       " (0.091484972436923995, u'and'),\n",
       " (0.14980820375807655, u'answers'),\n",
       " (0.14980820375807655, u'attack'),\n",
       " (0.27095558777350809, u'bandits'),\n",
       " (0.11742361261454501, u'battle'),\n",
       " (0.14980820375807655, u'culminates'),\n",
       " (0.13547779388675404, u'day'),\n",
       " (0.14980820375807655, u'defend'),\n",
       " (0.14980820375807655, u'fallen'),\n",
       " (0.11742361261454501, u'film'),\n",
       " (0.072151389045991207, u'for'),\n",
       " (0.072151389045991207, u'from'),\n",
       " (0.14980820375807655, u'gathers'),\n",
       " (0.14980820375807655, u'giant'),\n",
       " (0.13547779388675404, u'hard'),\n",
       " (0.078595205258502346, u'has'),\n",
       " (0.072151389045991207, u'he'),\n",
       " (0.10553162742351276, u'help'),\n",
       " (0.089557054150858795, u'him'),\n",
       " (0.13547779388675404, u'how'),\n",
       " (0.049673549354238587, u'in'),\n",
       " (0.14980820375807655, u'meals'),\n",
       " (0.068427617645104688, u'on'),\n",
       " (0.10081220878863621, u'other'),\n",
       " (0.14980820375807655, u'protection'),\n",
       " (0.12531020627335637, u'request'),\n",
       " (0.44942461127422967, u'samurai'),\n",
       " (0.11742361261454501, u'small'),\n",
       " (0.14980820375807655, u'supply'),\n",
       " (0.14980820375807655, u'teach'),\n",
       " (0.16882089033099962, u'the'),\n",
       " (0.13547779388675404, u'themselves'),\n",
       " (0.19329877306142274, u'they'),\n",
       " (0.12531020627335637, u'three'),\n",
       " (0.14980820375807655, u'times'),\n",
       " (0.089648861958749937, u'to'),\n",
       " (0.14980820375807655, u'townspeople'),\n",
       " (0.14980820375807655, u'veteran'),\n",
       " (0.29961640751615309, u'village'),\n",
       " (0.076314211303916052, u'when'),\n",
       " (0.074171546838958768, u'who'),\n",
       " (0.065059056666138634, u'with')]"
      ]
     },
     "execution_count": 9,
     "metadata": {},
     "output_type": "execute_result"
    }
   ],
   "source": [
    "[(score, term)  for score, term in zip(tfidf_array[1], vectorizer.get_feature_names()) if score > 0]"
   ]
  },
  {
   "cell_type": "markdown",
   "metadata": {},
   "source": [
    "Now let's get the similarity between two documents.\n",
    "\n",
    "We have talked about several distance metrics in previous lectures, and now we can think more about the metrics and less about the implementation.\n",
    "\n",
    "You will find Scikit-learn has a number of [really popular metrics already implemented](http://scikit-learn.org/stable/modules/classes.html#module-sklearn.metrics)!"
   ]
  },
  {
   "cell_type": "markdown",
   "metadata": {},
   "source": [
    "### &#167; WARMUP Take the first 10 plot summaries and find the summaries they are most similar to Euclidean and Cosine Similarity\n",
    "\n",
    "* Euclidean distance metrics can be done using [sklearn.metrics.pairwise.euclidean_distances](http://scikit-learn.org/stable/modules/generated/sklearn.metrics.pairwise.euclidean_distances.html#sklearn.metrics.pairwise.euclidean_distances) and\n",
    "* cosine similarity will be done using [sklearn.metrics.pairwise.cosine_similarity](http://scikit-learn.org/stable/modules/generated/sklearn.metrics.pairwise.cosine_similarity.html#sklearn.metrics.pairwise.cosine_similarity).\n",
    "\n",
    "### &#167; WARMUP Discuss the differences or similarity between the results executing the code below."
   ]
  },
  {
   "cell_type": "code",
   "execution_count": 10,
   "metadata": {
    "collapsed": false
   },
   "outputs": [
    {
     "name": "stdout",
     "output_type": "stream",
     "text": [
      "Euclidean\n",
      "It's a Wonderful Life is closer to Gladiator\n",
      "Seven Samurai is closer to The Silence of the Lambs\n",
      "The Godfather: Part II is closer to 12 Angry Men\n",
      "The Green Mile is closer to 12 Angry Men\n",
      "Modern Times is closer to City Lights\n",
      "Se7en is closer to 12 Angry Men\n",
      "The Matrix is closer to One Flew Over the Cuckoo's Nest\n",
      "Sunset Boulevard is closer to The Silence of the Lambs\n",
      "Once Upon a Time in the West is closer to Star Wars: Episode IV - A New Hope\n",
      "Memento is closer to Gladiator\n",
      "\n",
      "\n",
      "Cosine\n",
      "It's a Wonderful Life is closer to The Usual Suspects\n",
      "Seven Samurai is closer to Baahubali: The Beginning\n",
      "The Godfather: Part II is closer to Fight Club\n",
      "The Green Mile is closer to Fight Club\n",
      "Modern Times is closer to Sunset Boulevard\n",
      "Se7en is closer to The Good, the Bad and the Ugly\n",
      "The Matrix is closer to Fight Club\n",
      "Sunset Boulevard is closer to Modern Times\n",
      "Once Upon a Time in the West is closer to Forrest Gump\n",
      "Memento is closer to Modern Times\n"
     ]
    },
    {
     "name": "stderr",
     "output_type": "stream",
     "text": [
      "C:\\Users\\Sosa\\Anaconda2\\lib\\site-packages\\ipykernel\\__main__.py:11: VisibleDeprecationWarning: converting an array with ndim > 0 to an index will result in an error in the future\n"
     ]
    }
   ],
   "source": [
    "from sklearn.metrics.pairwise import euclidean_distances, cosine_similarity\n",
    "import numpy as np\n",
    "\n",
    "dist = euclidean_distances(tfidf_matrix, tfidf_matrix)\n",
    "dist2 = cosine_similarity(tfidf_matrix, tfidf_matrix)\n",
    "print 'Euclidean'\n",
    "for element in range(0,10):\n",
    "\n",
    "    closer = np.sort(dist[element])[1]\n",
    "    value =np.where(dist[element] ==closer)[0]\n",
    "    print plots_50.keys()[element] +' is closer to ' +plots_50.keys()[value]\n",
    "print '\\n\\nCosine'\n",
    "\n",
    "for element in range(0,10):\n",
    "\n",
    "    closer = np.sort(dist2[element])[1]\n",
    "    value =np.where(dist2[element] ==closer)[0]\n",
    "    print plots_50.keys()[element] +' is closer to ' +plots_50.keys()[value[0]]"
   ]
  },
  {
   "cell_type": "markdown",
   "metadata": {
    "collapsed": false
   },
   "source": [
    "```python\n",
    "from sklearn.metrics.pairwise import euclidean_distances, cosine_similarity\n",
    "\n",
    "def test_similarity(type):\n",
    "    if type == 'euc':\n",
    "        max_n = 5\n",
    "        sim = euclidean_distances\n",
    "    elif type == 'cos':\n",
    "        max_n = -5\n",
    "        sim = cosine_similarity\n",
    "        \n",
    "    for i in xrange(0,20):\n",
    "        test_data = sim(tfidf_matrix)[i]\n",
    "        #max_n, test_data =  5, euclidean_distances(tfidf_matrix)[i]\n",
    "\n",
    "        if max_n < 0:\n",
    "            top_most_similar = zip(test_data.argsort()[max_n:],test_data[test_data.argsort()[max_n:]])\n",
    "            idx, value = top_most_similar[-2]\n",
    "        else:\n",
    "            top_most_similar = zip(test_data.argsort()[:max_n],test_data[test_data.argsort()[:max_n]])\n",
    "            idx, value = top_most_similar[1]\n",
    "\n",
    "        # print top_most_similar\n",
    "        print \"{} ({}, {}) and {}({}) are most similar.\".format(plots_50.keys()[idx], idx, value, plots_50.keys()[i], i)\n",
    "        \n",
    "test_similarity('cos')   \n",
    "print \"\\n\"\n",
    "test_similarity('euc') \n",
    "```"
   ]
  },
  {
   "cell_type": "code",
   "execution_count": 11,
   "metadata": {
    "collapsed": false
   },
   "outputs": [
    {
     "name": "stdout",
     "output_type": "stream",
     "text": [
      "Gladiator (46, 0.272774628312) and It's a Wonderful Life(0) are most similar.\n",
      "The Silence of the Lambs (35, 0.14657397934) and Seven Samurai(1) are most similar.\n",
      "12 Angry Men (21, 0.178139981308) and The Godfather: Part II(2) are most similar.\n",
      "12 Angry Men (21, 0.165832766602) and The Green Mile(3) are most similar.\n",
      "City Lights (18, 0.187545697261) and Modern Times(4) are most similar.\n",
      "12 Angry Men (21, 0.235447989478) and Se7en(5) are most similar.\n",
      "One Flew Over the Cuckoo's Nest (44, 0.139948368223) and The Matrix(6) are most similar.\n",
      "The Silence of the Lambs (35, 0.0647963880422) and Sunset Boulevard(7) are most similar.\n",
      "Star Wars: Episode IV - A New Hope (24, 0.10884421161) and Once Upon a Time in the West(8) are most similar.\n",
      "Gladiator (46, 0.103356077241) and Memento(9) are most similar.\n",
      "Gladiator (46, 0.190659373598) and Life Is Beautiful(10) are most similar.\n",
      "12 Angry Men (21, 0.17309061434) and The Prestige(11) are most similar.\n",
      "The Departed (43, 0.120270976841) and Pulp Fiction(12) are most similar.\n",
      "It's a Wonderful Life (0, 0.193140704025) and Raiders of the Lost Ark(13) are most similar.\n",
      "The Godfather (15, 0.112061514898) and The Usual Suspects(14) are most similar.\n",
      "Gladiator (46, 0.230421812857) and The Godfather(15) are most similar.\n",
      "Léon: The Professional (37, 0.264025513449) and Spirited Away(16) are most similar.\n",
      "12 Angry Men (21, 0.196274698745) and The Dark Knight(17) are most similar.\n",
      "Modern Times (4, 0.187545697261) and City Lights(18) are most similar.\n",
      "The Silence of the Lambs (35, 0.0816512008911) and Fight Club(19) are most similar.\n",
      "\n",
      "\n",
      "Gladiator (46, 1.2060061125) and It's a Wonderful Life(0) are most similar.\n",
      "The Silence of the Lambs (35, 1.30646547651) and Seven Samurai(1) are most similar.\n",
      "12 Angry Men (21, 1.28207645536) and The Godfather: Part II(2) are most similar.\n",
      "12 Angry Men (21, 1.29164022344) and The Green Mile(3) are most similar.\n",
      "City Lights (18, 1.27471903001) and Modern Times(4) are most similar.\n",
      "12 Angry Men (21, 1.23656945662) and Se7en(5) are most similar.\n",
      "One Flew Over the Cuckoo's Nest (44, 1.31152707313) and The Matrix(6) are most similar.\n",
      "The Silence of the Lambs (35, 1.36762832082) and Sunset Boulevard(7) are most similar.\n",
      "Star Wars: Episode IV - A New Hope (24, 1.33503242537) and Once Upon a Time in the West(8) are most similar.\n",
      "Gladiator (46, 1.33913697788) and Memento(9) are most similar.\n",
      "Gladiator (46, 1.27227404784) and Life Is Beautiful(10) are most similar.\n",
      "12 Angry Men (21, 1.28600885352) and The Prestige(11) are most similar.\n",
      "The Departed (43, 1.32644564394) and Pulp Fiction(12) are most similar.\n",
      "It's a Wonderful Life (0, 1.27032223941) and Raiders of the Lost Ark(13) are most similar.\n",
      "The Godfather (15, 1.33262033986) and The Usual Suspects(14) are most similar.\n",
      "Gladiator (46, 1.24062741155) and The Godfather(15) are most similar.\n",
      "Léon: The Professional (37, 1.21323904203) and Spirited Away(16) are most similar.\n",
      "12 Angry Men (21, 1.26785275269) and The Dark Knight(17) are most similar.\n",
      "Modern Times (4, 1.27471903001) and City Lights(18) are most similar.\n",
      "The Silence of the Lambs (35, 1.3552481685) and Fight Club(19) are most similar.\n"
     ]
    }
   ],
   "source": [
    "from sklearn.metrics.pairwise import euclidean_distances, cosine_similarity\n",
    "\n",
    "def test_similarity(type):\n",
    "    if type == 'euc':\n",
    "        max_n = 5\n",
    "        sim = euclidean_distances\n",
    "    elif type == 'cos':\n",
    "        max_n = -5\n",
    "        sim = cosine_similarity\n",
    "\n",
    "    for i in xrange(0,20):\n",
    "        test_data = sim(tfidf_matrix)[i]\n",
    "        #max_n, test_data =  5, euclidean_distances(tfidf_matrix)[i]\n",
    "\n",
    "        if max_n < 0:\n",
    "            top_most_similar = zip(test_data.argsort()[max_n:],test_data[test_data.argsort()[max_n:]])\n",
    "            idx, value = top_most_similar[-2]\n",
    "        else:\n",
    "            top_most_similar = zip(test_data.argsort()[:max_n],test_data[test_data.argsort()[:max_n]])\n",
    "            idx, value = top_most_similar[1]\n",
    "\n",
    "        # print top_most_similar\n",
    "        print \"{} ({}, {}) and {}({}) are most similar.\".format(plots_50.keys()[idx], idx, value, plots_50.keys()[i], i)\n",
    "\n",
    "test_similarity('cos')   \n",
    "print \"\\n\"\n",
    "test_similarity('euc')"
   ]
  },
  {
   "cell_type": "markdown",
   "metadata": {},
   "source": [
    "## Part 1 / Document Clustering\n",
    "\n",
    "### &#167; Load the 1000 OMDB summaries in to a Python list called `sample_docs`\n"
   ]
  },
  {
   "cell_type": "code",
   "execution_count": 12,
   "metadata": {
    "collapsed": false
   },
   "outputs": [],
   "source": [
    "import csv\n",
    "\n",
    "sample_docs = {}\n",
    "with open(\"./data/top1000_movie_summaries.tsv\") as fi:\n",
    "    tsvReader = csv.reader(fi, delimiter='\\t')\n",
    "    for i, (title, plot) in enumerate(tsvReader):\n",
    "        sample_docs[title]=plot"
   ]
  },
  {
   "cell_type": "markdown",
   "metadata": {},
   "source": [
    "### &#167; Use `TfidfVectorizer` to load the documents into an array\n",
    "\n",
    "You will need to explore how to do this with the [example here]().\n",
    "\n",
    "Once you have your vectorizer and array, you can use the `get_feature_names()` method on `TfidfVectorizer` to get the document terms and their Tfidf scores.  \n",
    "\n",
    "### &#167; Use `get_feature_names()` to display the top 10 terms and their Tfidf scores  of just the first document\n",
    "\n",
    "**HINT**\n",
    "The method and its usage can be found [here](http://scikit-learn.org/stable/modules/generated/sklearn.feature_extraction.text.TfidfVectorizer.html#sklearn.feature_extraction.text.TfidfVectorizer.get_feature_names).\n"
   ]
  },
  {
   "cell_type": "code",
   "execution_count": 13,
   "metadata": {
    "collapsed": false
   },
   "outputs": [
    {
     "name": "stdout",
     "output_type": "stream",
     "text": [
      "(0.37400992253634868, u'adams')\n",
      "(0.078392701437562648, u'all')\n",
      "(0.18700496126817434, u'altaira')\n",
      "(0.098324332551743276, u'and')\n",
      "(0.13309769230828408, u'anyone')\n",
      "(0.064915493423947396, u'are')\n",
      "(0.059554572313924789, u'but')\n",
      "(0.054717533575395993, u'by')\n",
      "(0.1205114282162769, u'crew')\n"
     ]
    }
   ],
   "source": [
    "from sklearn.feature_extraction.text import TfidfVectorizer\n",
    "vectorizer = TfidfVectorizer(min_df=1)\n",
    "# create the tfidf matrix\n",
    "tfidf_matrix = vectorizer.fit_transform(sample_docs.values())\n",
    "\n",
    "# convert the matrix to an array - which reduces the sparseness of the matrix\n",
    "tfidf_array = tfidf_matrix.toarray()\n",
    "\n",
    "foo = [(score, term)  for score, term in zip(tfidf_array[1], vectorizer.get_feature_names()) if score > 0]\n",
    "for x in range (0,9):\n",
    "    print foo[x]"
   ]
  },
  {
   "cell_type": "markdown",
   "metadata": {},
   "source": [
    "### &#167;  Use the KMeans algorithm with $k=20$ to compute 20 clusters over the 1000 summaries"
   ]
  },
  {
   "cell_type": "code",
   "execution_count": 14,
   "metadata": {
    "collapsed": false
   },
   "outputs": [],
   "source": [
    "from sklearn.cluster import KMeans\n",
    "\n",
    "kmeans = KMeans(n_clusters=20, random_state=0).fit(tfidf_array)"
   ]
  },
  {
   "cell_type": "markdown",
   "metadata": {
    "collapsed": false
   },
   "source": [
    "### &#167; Explore the clusters by printing the sizes (number of items in each cluster) for all of them.  Your answer should be a list with the cluster number and the number of items in that cluster.\n",
    "\n",
    "**HINT:**  You will need to use the attribute `labels_` to get the cluster names (there numeric).  This attribute stores each of the documents (in the order they are store in the matrix) and the cluster \"label\" (number) they belong to.\n",
    "\n",
    "For example after running the KMeans algorithm (fitting the data to the algorithm) and storing the results in a variable `km` then `km.labels_` will return the list (array) of all the items and their cluster number.\n",
    "\n",
    "It would look something like:\n",
    "\n",
    "    array([11,  2,  7, 12,  8,  4, 14, 14,  8, 12,  0,  4, 12,  2, 11,  8, 14,\n",
    "       18, 14,  9,  7,  5,  3,  4, 12, 18,  8, 16, 18,  4, 18,  0,  5,  0,\n",
    "    ...])\n",
    "\n",
    "where each index on the array is the item from your original data and the value for that index the cluster label (as a number).\n",
    "\n",
    "**HINT:** Count the frequency of the cluster labels to answer this question and you can use the [`Counter` object from the Python `collections` library](https://docs.python.org/2/library/collections.html#collections.Counter).\n",
    "\n",
    "**OUTPUT:**\n",
    "Your output will look something this where the key in the dictionary is the cluster label (number) and the value for that key is the count:\n",
    "\n",
    "    Counter({0: 21,\n",
    "             1: 9,\n",
    "             2: 14,\n",
    "             3: 220,\n",
    "             4: 31,\n",
    "             5: 71,\n",
    "             6: 75,\n",
    "             7: 17,\n",
    "             8: 120,\n",
    "             9: 89,\n",
    "             10: 118,\n",
    "             11: 12,\n",
    "             12: 22,\n",
    "             13: 55,\n",
    "             14: 69,\n",
    "             15: 41,\n",
    "             16: 180,\n",
    "             17: 14,\n",
    "             18: 82,\n",
    "             19: 55})\n",
    "    "
   ]
  },
  {
   "cell_type": "code",
   "execution_count": 15,
   "metadata": {
    "collapsed": false
   },
   "outputs": [
    {
     "name": "stdout",
     "output_type": "stream",
     "text": [
      "[[0 46]\n",
      " [1 51]\n",
      " [2 124]\n",
      " [3 13]\n",
      " [4 91]\n",
      " [5 160]\n",
      " [6 23]\n",
      " [7 12]\n",
      " [8 221]\n",
      " [9 16]\n",
      " [10 27]\n",
      " [11 10]\n",
      " [12 14]\n",
      " [13 11]\n",
      " [14 30]\n",
      " [15 10]\n",
      " [16 14]\n",
      " [17 79]\n",
      " [18 22]\n",
      " [19 24]]\n"
     ]
    }
   ],
   "source": [
    "import collections as c\n",
    "from numpy import *\n",
    "kmeans.labels_\n",
    "\n",
    "count = c.Counter(kmeans.labels_)\n",
    "rcount = c.OrderedDict(sorted(count.items()))\n",
    "rcount = np.array(rcount.items(), dtype=dtype)\n",
    "print rcount"
   ]
  },
  {
   "cell_type": "markdown",
   "metadata": {},
   "source": [
    "### &#167;  Use Hierarchical clustering algorithm with cosine similarity"
   ]
  },
  {
   "cell_type": "markdown",
   "metadata": {},
   "source": [
    "#### Cosine Similarity\n",
    "\n",
    "A common metric used in document / text mining is [cosine similarity](http://scikit-learn.org/stable/modules/generated/sklearn.metrics.pairwise.cosine_similarity.html#sklearn.metrics.pairwise.cosine_similarity), defined as:\n",
    "\n",
    "$$ \\textrm{cos}(\\mathbf{x}, \\mathbf{y}) = { \n",
    "{ \\sum_{i=1}^n {x_i y_i} } \\over \n",
    "{ \\sqrt {\\sum_{i=1}^n x_i^2}} { \\sqrt {\\sum_{i=1}^n y_i^2 }}\n",
    "}$$\n",
    "\n",
    "Where $\\mathbf{x}$ and $\\mathbf{y}$ are two vectors of equal length.  If $\\textrm{cos}(\\mathbf{x}, \\mathbf{y})$ is 0 then $\\mathbf{x}$ and $\\mathbf{y}$ are orthogonal or not correlated.  If 1, then two vectors are the same and if -1, completely opposite.\n",
    "\n",
    "#### Hierarchical Clustering\n",
    "\n",
    "**HINT**\n",
    "\n",
    "To do hierarchical clustering with cosine similarity, read the documentation for [`sklearn.cluster.AgglomorativeClustering`](http://scikit-learn.org/stable/modules/generated/sklearn.cluster.AgglomerativeClustering.html#sklearn.cluster.AgglomerativeClustering) and pay close attention to the `affinity` attribute of the input parameters of the constructor."
   ]
  },
  {
   "cell_type": "code",
   "execution_count": 16,
   "metadata": {
    "collapsed": false
   },
   "outputs": [],
   "source": [
    "from sklearn.cluster import AgglomerativeClustering as Agg\n",
    "\n",
    "cosine = Agg(n_clusters=20,affinity =\"cosine\",linkage='complete').fit(tfidf_array)"
   ]
  },
  {
   "cell_type": "markdown",
   "metadata": {},
   "source": [
    "### &#167; Compare your $k$-means results with those of the hierarchical clustering - point to at least TWO major differences (e.g. cluster distributions, sizes, etc.)\n",
    "\n",
    "**HINT** \n",
    "\n",
    "Use Python's [`Counter`](https://docs.python.org/dev/library/collections.html) class from `collections` on the `.labels_` attribute of your completed clustering results."
   ]
  },
  {
   "cell_type": "code",
   "execution_count": 17,
   "metadata": {
    "collapsed": false
   },
   "outputs": [
    {
     "name": "stdout",
     "output_type": "stream",
     "text": [
      "cosine\n",
      "[[0 614]\n",
      " [1 60]\n",
      " [2 8]\n",
      " [3 70]\n",
      " [4 13]\n",
      " [5 12]\n",
      " [6 35]\n",
      " [7 20]\n",
      " [8 58]\n",
      " [9 7]\n",
      " [10 16]\n",
      " [11 4]\n",
      " [12 4]\n",
      " [13 4]\n",
      " [14 4]\n",
      " [15 4]\n",
      " [16 4]\n",
      " [17 11]\n",
      " [18 44]\n",
      " [19 6]]\n",
      "\n",
      "Kmeans\n",
      "[[0 46]\n",
      " [1 51]\n",
      " [2 124]\n",
      " [3 13]\n",
      " [4 91]\n",
      " [5 160]\n",
      " [6 23]\n",
      " [7 12]\n",
      " [8 221]\n",
      " [9 16]\n",
      " [10 27]\n",
      " [11 10]\n",
      " [12 14]\n",
      " [13 11]\n",
      " [14 30]\n",
      " [15 10]\n",
      " [16 14]\n",
      " [17 79]\n",
      " [18 22]\n",
      " [19 24]]\n",
      "An obvious difference between methods is how for cosine we have a very large cluster (0) and many more small clusters with no medium clusters in the middle, whereas in K means we lack very large clusters while having some medium and small clusters.\n"
     ]
    }
   ],
   "source": [
    "count2 = c.Counter(cosine.labels_)\n",
    "rcount2 = c.OrderedDict(sorted(count2.items()))\n",
    "rcount2 = np.array(rcount2.items(), dtype=dtype)\n",
    "print 'cosine'\n",
    "print rcount2 \n",
    "print '\\nKmeans'\n",
    "print rcount\n",
    "\n",
    "print 'An obvious difference between methods is how for cosine we have a very large cluster (0) and many more small clusters with no medium clusters in the middle, whereas in K means we lack very large clusters while having some medium and small clusters.'"
   ]
  },
  {
   "cell_type": "markdown",
   "metadata": {},
   "source": [
    "### &#167; There was a discussion some time ago about adding dendrogram plotting to Scikit-learn (which is still currently not implemented).  Please read that discussion and use the `plot_dendrogram` method below (taken from that discussion) to plot the dendrogram for your hierarchical clusters.\n",
    "\n",
    "**HINT**\n",
    "CAREFULLY READ THE DISCUSSION LINK and ORIGINAL CODE: [https://github.com/scikit-learn/scikit-learn/pull/3464](https://github.com/scikit-learn/scikit-learn/pull/3464)\n",
    "\n",
    "```python\n",
    "import numpy as np\n",
    "\n",
    "from matplotlib import pyplot as plt\n",
    "from scipy.cluster.hierarchy import dendrogram\n",
    "from sklearn.cluster import AgglomerativeClustering\n",
    "\n",
    "def plot_dendrogram(model, **kwargs):\n",
    "\n",
    "    # Children of hierarchical clustering\n",
    "    children = model.children_\n",
    "\n",
    "    # Distances between each pair of children\n",
    "    # Since we don't have this information, we can use a uniform one for plotting\n",
    "    distance = np.arange(children.shape[0])\n",
    "\n",
    "    # The number of observations contained in each cluster level\n",
    "    no_of_observations = np.arange(2, children.shape[0]+2)\n",
    "\n",
    "    # Create linkage matrix and then plot the dendrogram\n",
    "    linkage_matrix = np.column_stack([children, distance, no_of_observations]).astype(float)\n",
    "\n",
    "    # Plot the corresponding dendrogram\n",
    "    dendrogram(linkage_matrix, **kwargs)\n",
    "```"
   ]
  },
  {
   "cell_type": "code",
   "execution_count": 18,
   "metadata": {
    "collapsed": false
   },
   "outputs": [
    {
     "data": {
      "image/png": "[encoded data removed]",
      "text/plain": [
       "<matplotlib.figure.Figure at 0x9822f98>"
      ]
     },
     "metadata": {},
     "output_type": "display_data"
    }
   ],
   "source": [
    "import numpy as np\n",
    "\n",
    "from matplotlib import pyplot as plt\n",
    "from scipy.cluster.hierarchy import dendrogram\n",
    "from sklearn.cluster import AgglomerativeClustering\n",
    "\n",
    "def plot_dendrogram(model, **kwargs):\n",
    "\n",
    "    # Children of hierarchical clustering\n",
    "    children = model.children_\n",
    "\n",
    "    # Distances between each pair of children\n",
    "    # Since we don't have this information, we can use a uniform one for plotting\n",
    "    distance = np.arange(children.shape[0])\n",
    "\n",
    "    # The number of observations contained in each cluster level\n",
    "    no_of_observations = np.arange(2, children.shape[0]+2)\n",
    "\n",
    "    # Create linkage matrix and then plot the dendrogram\n",
    "    linkage_matrix = np.column_stack([children, distance, no_of_observations]).astype(float)\n",
    "\n",
    "    # Plot the corresponding dendrogram\n",
    "    dendrogram(linkage_matrix, **kwargs)\n",
    "    \n",
    "plot_dendrogram(cosine)"
   ]
  },
  {
   "cell_type": "markdown",
   "metadata": {},
   "source": [
    "### &#167; Associate the clusters with their top terms and print a list of the cluster number and the genres of that cluster."
   ]
  },
  {
   "cell_type": "markdown",
   "metadata": {},
   "source": [
    "## Part 2 / Classification With $k$-Nearest Neighbors "
   ]
  },
  {
   "cell_type": "markdown",
   "metadata": {},
   "source": [
    "In HW1 you learned about and used the $k$-NN algorithm.  You computed $k$ neighbors based on actual data.  This algorithm can also be used to do what is called a _lazy learner_ because it learns from the _testing_ phase instead of the _training_ phase.  This has performance issues unto itself since all the data it has to be seen. It can, nonetheless, be used as a way to do **supervised classification** since it has learned all the class labels already.\n",
    "\n",
    "You will first start with just a warmup of the using the [NearestNeigbors algorithm](http://scikit-learn.org/stable/modules/classes.html#module-sklearn.neighbors) already implented in Scikit-learn."
   ]
  },
  {
   "cell_type": "markdown",
   "metadata": {},
   "source": [
    "### &#167; Using NearestNeighbors in SKL (Scikit-learn) find the 10 nearest neighbors using the movie data you have already begun exploring, storing the data in a variable called neigh\n",
    "\n",
    "For example, you code will look like:\n",
    "\n",
    "``` python\n",
    "...\n",
    "neigh = #<your nearest neighbor class>\n",
    "...\n",
    "```\n",
    "\n",
    "**HINT:** See the examples on how to do this [here](http://scikit-learn.org/stable/modules/generated/sklearn.neighbors.NearestNeighbors.html#sklearn.neighbors.NearestNeighbors.kneighbors)."
   ]
  },
  {
   "cell_type": "code",
   "execution_count": 19,
   "metadata": {
    "collapsed": false
   },
   "outputs": [
    {
     "data": {
      "text/plain": [
       "NearestNeighbors(algorithm='auto', leaf_size=30, metric='minkowski',\n",
       "         metric_params=None, n_jobs=1, n_neighbors=10, p=2, radius=1.0)"
      ]
     },
     "execution_count": 19,
     "metadata": {},
     "output_type": "execute_result"
    }
   ],
   "source": [
    "from sklearn.neighbors import NearestNeighbors\n",
    "neigh = NearestNeighbors(n_neighbors=10)\n",
    "neigh.fit(tfidf_array)"
   ]
  },
  {
   "cell_type": "markdown",
   "metadata": {},
   "source": [
    "### &#167; The function below takes a movie index (from the original data file, in order) and returns the titles of the $k$-nearest neighbors.  It requires you to have set the `neigh` variable to the NearestNeighbor class and have fitted the data to it."
   ]
  },
  {
   "cell_type": "code",
   "execution_count": 20,
   "metadata": {
    "collapsed": false
   },
   "outputs": [],
   "source": [
    "import csv\n",
    "from sklearn.feature_extraction.text import TfidfVectorizer\n",
    "import collections\n",
    "\n",
    "docs = collections.OrderedDict()\n",
    "with open(\"./data/top1000_movie_summaries.tsv\") as fi:\n",
    "    tsvReader = csv.reader(fi, delimiter='\\t')\n",
    "    for i, (title, plot) in enumerate(tsvReader):\n",
    "        \n",
    "        docs[title]=plot\n",
    "\n",
    "vectorizer = TfidfVectorizer(min_df=1)\n",
    "# create the tfidf matrix\n",
    "tfidf_matrix = vectorizer.fit_transform(docs.values())\n",
    "\n",
    "# convert the matrix to an array - which reduces the sparseness of the matrix\n",
    "tfidf_array = tfidf_matrix.toarray()\n",
    "\n",
    "def get_nn_movie_names(movie_index):\n",
    "    print'\\n'\n",
    "    tfidf_array[movie_index]\n",
    "    print(\"{}\\n===\".format(docs.keys()[movie_index]))\n",
    "    for idx, dist in zip(np.nditer(neigh.kneighbors(tfidf_array[movie_index])[1]), \n",
    "                         np.nditer(neigh.kneighbors(tfidf_array[movie_index])[0])):\n",
    "        if idx != movie_index: \n",
    "            print(u'{}'.format(docs.keys()[idx]))"
   ]
  },
  {
   "cell_type": "markdown",
   "metadata": {},
   "source": [
    "### &#167; Use `get_nn_movie_names(index)` for the indices and associated movies below.  In one or two sentences give your opinion of how well this method compares to the lists in the links (this is not meant to be scientific). \n",
    "| index | movie name | similar movies link |\n",
    "|-------|------------|---------------------|\n",
    "| 34 | Saving Private Ryan | [http://www.similarkind.com/search?q=saving+private+ryan](http://www.similarkind.com/search?q=saving+private+ryan) |\n",
    "| 26 | Life is Beautiful | [http://www.similarkind.com/search?q=the+green+mile](http://www.similarkind.com/search?q=the+green+mile) |\n",
    "| 199 | Hotel Rwanda | [http://www.similarkind.com/search?q=hotel+rwanda](http://www.similarkind.com/search?q=hotel+rwanda) |"
   ]
  },
  {
   "cell_type": "code",
   "execution_count": 21,
   "metadata": {
    "collapsed": false
   },
   "outputs": [
    {
     "name": "stdout",
     "output_type": "stream",
     "text": [
      "\n",
      "\n",
      "Saving Private Ryan\n",
      "===\n"
     ]
    },
    {
     "name": "stderr",
     "output_type": "stream",
     "text": [
      "C:\\Users\\Sosa\\Anaconda2\\lib\\site-packages\\sklearn\\utils\\validation.py:386: DeprecationWarning: Passing 1d arrays as data is deprecated in 0.17 and willraise ValueError in 0.19. Reshape your data either using X.reshape(-1, 1) if your data has a single feature or X.reshape(1, -1) if it contains a single sample.\n",
      "  DeprecationWarning)\n",
      "C:\\Users\\Sosa\\Anaconda2\\lib\\site-packages\\sklearn\\utils\\validation.py:386: DeprecationWarning: Passing 1d arrays as data is deprecated in 0.17 and willraise ValueError in 0.19. Reshape your data either using X.reshape(-1, 1) if your data has a single feature or X.reshape(1, -1) if it contains a single sample.\n",
      "  DeprecationWarning)\n",
      "C:\\Users\\Sosa\\Anaconda2\\lib\\site-packages\\sklearn\\utils\\validation.py:386: DeprecationWarning: Passing 1d arrays as data is deprecated in 0.17 and willraise ValueError in 0.19. Reshape your data either using X.reshape(-1, 1) if your data has a single feature or X.reshape(1, -1) if it contains a single sample.\n",
      "  DeprecationWarning)\n"
     ]
    },
    {
     "name": "stdout",
     "output_type": "stream",
     "text": [
      "Dirty Harry\n",
      "Army of Darkness\n",
      "The Sweet Hereafter\n",
      "The Dark Knight\n",
      "Avatar\n",
      "The Player\n",
      "X-Men: Days of Future Past\n",
      "Spotlight\n",
      "Volver\n",
      "The Boy in the Striped Pajamas\n",
      "None\n",
      "\n",
      "\n",
      "Life Is Beautiful\n",
      "===\n",
      "Three Colors: Blue\n",
      "Frost/Nixon\n",
      "Freedom Writers\n",
      "Vicky Donor\n",
      "Thank You for Smoking\n",
      "Awakenings\n",
      "Ponyo\n",
      "Billy Elliot\n",
      "Giant\n",
      "Selma\n",
      "None\n",
      "\n",
      "\n",
      "Hotel Rwanda\n",
      "===\n"
     ]
    },
    {
     "name": "stderr",
     "output_type": "stream",
     "text": [
      "C:\\Users\\Sosa\\Anaconda2\\lib\\site-packages\\sklearn\\utils\\validation.py:386: DeprecationWarning: Passing 1d arrays as data is deprecated in 0.17 and willraise ValueError in 0.19. Reshape your data either using X.reshape(-1, 1) if your data has a single feature or X.reshape(1, -1) if it contains a single sample.\n",
      "  DeprecationWarning)\n",
      "C:\\Users\\Sosa\\Anaconda2\\lib\\site-packages\\sklearn\\utils\\validation.py:386: DeprecationWarning: Passing 1d arrays as data is deprecated in 0.17 and willraise ValueError in 0.19. Reshape your data either using X.reshape(-1, 1) if your data has a single feature or X.reshape(1, -1) if it contains a single sample.\n",
      "  DeprecationWarning)\n",
      "C:\\Users\\Sosa\\Anaconda2\\lib\\site-packages\\sklearn\\utils\\validation.py:386: DeprecationWarning: Passing 1d arrays as data is deprecated in 0.17 and willraise ValueError in 0.19. Reshape your data either using X.reshape(-1, 1) if your data has a single feature or X.reshape(1, -1) if it contains a single sample.\n",
      "  DeprecationWarning)\n"
     ]
    },
    {
     "name": "stdout",
     "output_type": "stream",
     "text": [
      "Wings of Desire\n",
      "Moonrise Kingdom\n",
      "Marathon Man\n",
      "A Prophet\n",
      "Man on the Moon\n",
      "Enter the Dragon\n",
      "No Man's Land\n",
      "The Return\n",
      "Snatch\n",
      "Open Range\n",
      "None\n"
     ]
    }
   ],
   "source": [
    "print get_nn_movie_names(34)\n",
    "print get_nn_movie_names(24)\n",
    "print get_nn_movie_names(199)"
   ]
  },
  {
   "cell_type": "markdown",
   "metadata": {},
   "source": [
    "### &#167; In 1 or 2 sentences suggest ways to improve the results of the algorithm (e.g. more data, better features, etc.)?"
   ]
  },
  {
   "cell_type": "markdown",
   "metadata": {},
   "source": [
    "## Part 3 / Classification With Decision Trees\n",
    "\n",
    "\n",
    "As we learned, decision trees are a powerful way to build classifiers, especially since the output is interpretable.  By using information gain such as entropy and gini coefficient, nodes can be chosen that split the data in meaningful ways allowing the leaf nodes to provide the labels of a set of decisions as one follows each attribute at a decision point.\n",
    "\n",
    "Scikit-learn [implements decision tree classifiers](http://scikit-learn.org/stable/modules/tree.html#tree) and we will use them for this part of the assignment.  To use this classifier, you will need to remember the following import\n",
    "\n",
    "``` python\n",
    "from sklearn import tree\n",
    "```\n",
    "\n",
    "As always, you should include these imports as well\n",
    "```python\n",
    "import pandas as pd\n",
    "import numpy as np\n",
    "```"
   ]
  },
  {
   "cell_type": "markdown",
   "metadata": {},
   "source": [
    "### DATA FOR PART 3\n",
    "\n",
    "We will be using data from the US Federal [Consumer Financial Protection Bureau (CFPB)](http://www.consumerfinance.gov/data-research/consumer-complaints/) which maintains a consumer complaint database.  In it there are a number of factors being stored, including company names, consumer narratives, complaint type, date, etc.\n",
    "\n",
    "The dataset can be downloaded in its entirety [here](http://www.consumerfinance.gov/data-research/consumer-complaints/#download-the-data) as a CSV or JSON file and you will also find it in the [`data`](./data/) directory for this repo.  That file was retrieved on October 30, 2016 and represents data from March 2015 to August 2016 in about 27K rows."
   ]
  },
  {
   "cell_type": "markdown",
   "metadata": {},
   "source": [
    "### &#167; Read the complaint data into a Pandas Dataframe called `df` and restrict the data to 4 columns : `Product`, `Sub-product`, `Issue` and `Sub-issue`.\n",
    "\n",
    "### &#167; Create a training dataset with 3000 random data points from `df` and call that `df_train`."
   ]
  },
  {
   "cell_type": "code",
   "execution_count": 22,
   "metadata": {
    "collapsed": false
   },
   "outputs": [
    {
     "name": "stdout",
     "output_type": "stream",
     "text": [
      "                       Product                            Sub-product  \\\n",
      "Date received                                                           \n",
      "2015-03-23     Debt collection  Other (i.e. phone, health club, etc.)   \n",
      "2015-03-23     Debt collection                            Payday loan   \n",
      "2015-03-23     Debt collection                                Medical   \n",
      "2015-03-23     Debt collection  Other (i.e. phone, health club, etc.)   \n",
      "2015-03-23     Debt collection                               Mortgage   \n",
      "2015-03-23     Debt collection                          I do not know   \n",
      "2015-03-24     Debt collection  Other (i.e. phone, health club, etc.)   \n",
      "2015-03-24     Debt collection                            Credit card   \n",
      "2015-03-24     Debt collection                            Credit card   \n",
      "2015-03-24     Debt collection                          I do not know   \n",
      "2015-03-24     Debt collection                                   Auto   \n",
      "2015-03-24     Debt collection                                Medical   \n",
      "2015-03-24     Debt collection  Other (i.e. phone, health club, etc.)   \n",
      "2015-03-24     Debt collection                          I do not know   \n",
      "2015-03-24     Debt collection                          I do not know   \n",
      "2015-03-24     Debt collection                          I do not know   \n",
      "2015-03-24     Debt collection                            Payday loan   \n",
      "2015-03-19     Debt collection  Other (i.e. phone, health club, etc.)   \n",
      "2015-03-19     Debt collection                                Medical   \n",
      "2015-03-24     Debt collection                          I do not know   \n",
      "2015-03-24     Debt collection  Other (i.e. phone, health club, etc.)   \n",
      "2015-03-19     Debt collection                          I do not know   \n",
      "2015-03-19     Debt collection                                Medical   \n",
      "2015-03-19     Debt collection                          I do not know   \n",
      "2015-03-24     Debt collection  Other (i.e. phone, health club, etc.)   \n",
      "2015-03-24     Debt collection  Other (i.e. phone, health club, etc.)   \n",
      "2015-03-19     Debt collection                          I do not know   \n",
      "2015-03-27     Debt collection                            Credit card   \n",
      "2015-03-19     Debt collection                          I do not know   \n",
      "2015-03-19     Debt collection                          I do not know   \n",
      "...                        ...                                    ...   \n",
      "2016-08-21     Debt collection  Other (i.e. phone, health club, etc.)   \n",
      "2016-08-19     Debt collection  Other (i.e. phone, health club, etc.)   \n",
      "2016-08-08     Debt collection                          I do not know   \n",
      "2016-10-11     Debt collection  Other (i.e. phone, health club, etc.)   \n",
      "2016-08-24     Debt collection  Other (i.e. phone, health club, etc.)   \n",
      "2016-08-08     Debt collection                            Credit card   \n",
      "2016-08-22     Debt collection                          I do not know   \n",
      "2016-08-09     Debt collection  Other (i.e. phone, health club, etc.)   \n",
      "2016-07-26     Debt collection                                Medical   \n",
      "2016-10-07     Debt collection  Other (i.e. phone, health club, etc.)   \n",
      "2016-08-18     Debt collection                            Credit card   \n",
      "2016-10-11     Debt collection  Other (i.e. phone, health club, etc.)   \n",
      "2016-10-12     Debt collection                            Credit card   \n",
      "2016-09-22     Debt collection                                Medical   \n",
      "2016-09-08     Debt collection  Other (i.e. phone, health club, etc.)   \n",
      "2016-07-30     Debt collection                            Credit card   \n",
      "2016-09-06     Debt collection  Other (i.e. phone, health club, etc.)   \n",
      "2016-08-26     Debt collection                                   Auto   \n",
      "2016-08-21     Debt collection  Other (i.e. phone, health club, etc.)   \n",
      "2016-08-22     Debt collection                                   Auto   \n",
      "2016-08-14     Debt collection                            Credit card   \n",
      "2016-05-06     Debt collection                            Credit card   \n",
      "2016-08-21     Debt collection                            Credit card   \n",
      "2016-08-22     Debt collection                   Federal student loan   \n",
      "2016-10-07     Debt collection  Other (i.e. phone, health club, etc.)   \n",
      "2016-08-22     Debt collection                                Medical   \n",
      "2016-08-22     Debt collection                          I do not know   \n",
      "2016-08-20     Debt collection  Other (i.e. phone, health club, etc.)   \n",
      "2016-08-22     Debt collection                                Medical   \n",
      "2016-08-21     Debt collection  Other (i.e. phone, health club, etc.)   \n",
      "\n",
      "                                               Issue  \\\n",
      "Date received                                          \n",
      "2015-03-23       Improper contact or sharing of info   \n",
      "2015-03-23       Improper contact or sharing of info   \n",
      "2015-03-23     Cont'd attempts collect debt not owed   \n",
      "2015-03-23     Cont'd attempts collect debt not owed   \n",
      "2015-03-23                     Communication tactics   \n",
      "2015-03-23           Disclosure verification of debt   \n",
      "2015-03-24        False statements or representation   \n",
      "2015-03-24     Cont'd attempts collect debt not owed   \n",
      "2015-03-24                     Communication tactics   \n",
      "2015-03-24           Disclosure verification of debt   \n",
      "2015-03-24        False statements or representation   \n",
      "2015-03-24     Cont'd attempts collect debt not owed   \n",
      "2015-03-24        False statements or representation   \n",
      "2015-03-24                     Communication tactics   \n",
      "2015-03-24     Cont'd attempts collect debt not owed   \n",
      "2015-03-24     Cont'd attempts collect debt not owed   \n",
      "2015-03-24        False statements or representation   \n",
      "2015-03-19     Cont'd attempts collect debt not owed   \n",
      "2015-03-19     Cont'd attempts collect debt not owed   \n",
      "2015-03-24     Cont'd attempts collect debt not owed   \n",
      "2015-03-24           Disclosure verification of debt   \n",
      "2015-03-19     Cont'd attempts collect debt not owed   \n",
      "2015-03-19     Cont'd attempts collect debt not owed   \n",
      "2015-03-19                     Communication tactics   \n",
      "2015-03-24      Taking/threatening an illegal action   \n",
      "2015-03-24     Cont'd attempts collect debt not owed   \n",
      "2015-03-19     Cont'd attempts collect debt not owed   \n",
      "2015-03-27     Cont'd attempts collect debt not owed   \n",
      "2015-03-19     Cont'd attempts collect debt not owed   \n",
      "2015-03-19     Cont'd attempts collect debt not owed   \n",
      "...                                              ...   \n",
      "2016-08-21           Disclosure verification of debt   \n",
      "2016-08-19     Cont'd attempts collect debt not owed   \n",
      "2016-08-08     Cont'd attempts collect debt not owed   \n",
      "2016-10-11     Cont'd attempts collect debt not owed   \n",
      "2016-08-24     Cont'd attempts collect debt not owed   \n",
      "2016-08-08                     Communication tactics   \n",
      "2016-08-22     Cont'd attempts collect debt not owed   \n",
      "2016-08-09                     Communication tactics   \n",
      "2016-07-26     Cont'd attempts collect debt not owed   \n",
      "2016-10-07     Cont'd attempts collect debt not owed   \n",
      "2016-08-18     Cont'd attempts collect debt not owed   \n",
      "2016-10-11           Disclosure verification of debt   \n",
      "2016-10-12       Improper contact or sharing of info   \n",
      "2016-09-22     Cont'd attempts collect debt not owed   \n",
      "2016-09-08     Cont'd attempts collect debt not owed   \n",
      "2016-07-30           Disclosure verification of debt   \n",
      "2016-09-06           Disclosure verification of debt   \n",
      "2016-08-26     Cont'd attempts collect debt not owed   \n",
      "2016-08-21           Disclosure verification of debt   \n",
      "2016-08-22     Cont'd attempts collect debt not owed   \n",
      "2016-08-14           Disclosure verification of debt   \n",
      "2016-05-06      Taking/threatening an illegal action   \n",
      "2016-08-21           Disclosure verification of debt   \n",
      "2016-08-22                     Communication tactics   \n",
      "2016-10-07                     Communication tactics   \n",
      "2016-08-22     Cont'd attempts collect debt not owed   \n",
      "2016-08-22     Cont'd attempts collect debt not owed   \n",
      "2016-08-20     Cont'd attempts collect debt not owed   \n",
      "2016-08-22           Disclosure verification of debt   \n",
      "2016-08-21           Disclosure verification of debt   \n",
      "\n",
      "                                            Sub-issue  \n",
      "Date received                                          \n",
      "2015-03-23          Contacted me after I asked not to  \n",
      "2015-03-23      Talked to a third party about my debt  \n",
      "2015-03-23                              Debt was paid  \n",
      "2015-03-23          Debt resulted from identity theft  \n",
      "2015-03-23            Threatened to take legal action  \n",
      "2015-03-23       Not given enough info to verify debt  \n",
      "2015-03-24          Attempted to collect wrong amount  \n",
      "2015-03-24          Debt was discharged in bankruptcy  \n",
      "2015-03-24                 Frequent or repeated calls  \n",
      "2015-03-24     Not disclosed as an attempt to collect  \n",
      "2015-03-24          Attempted to collect wrong amount  \n",
      "2015-03-24                           Debt is not mine  \n",
      "2015-03-24          Attempted to collect wrong amount  \n",
      "2015-03-24                 Frequent or repeated calls  \n",
      "2015-03-24                           Debt is not mine  \n",
      "2015-03-24                           Debt is not mine  \n",
      "2015-03-24       Impersonated an attorney or official  \n",
      "2015-03-19                              Debt was paid  \n",
      "2015-03-19                           Debt is not mine  \n",
      "2015-03-24                           Debt is not mine  \n",
      "2015-03-24       Right to dispute notice not received  \n",
      "2015-03-19                           Debt is not mine  \n",
      "2015-03-19                           Debt is not mine  \n",
      "2015-03-19                 Frequent or repeated calls  \n",
      "2015-03-24         Seized/Attempted to seize property  \n",
      "2015-03-24                           Debt is not mine  \n",
      "2015-03-19                           Debt is not mine  \n",
      "2015-03-27                           Debt is not mine  \n",
      "2015-03-19                           Debt is not mine  \n",
      "2015-03-19                           Debt is not mine  \n",
      "...                                               ...  \n",
      "2016-08-21       Not given enough info to verify debt  \n",
      "2016-08-19                           Debt is not mine  \n",
      "2016-08-08                           Debt is not mine  \n",
      "2016-10-11                              Debt was paid  \n",
      "2016-08-24          Debt resulted from identity theft  \n",
      "2016-08-08                 Frequent or repeated calls  \n",
      "2016-08-22                           Debt is not mine  \n",
      "2016-08-09                  Called outside of 8am-9pm  \n",
      "2016-07-26                           Debt is not mine  \n",
      "2016-10-07                              Debt was paid  \n",
      "2016-08-18                           Debt is not mine  \n",
      "2016-10-11       Not given enough info to verify debt  \n",
      "2016-10-12      Talked to a third party about my debt  \n",
      "2016-09-22                           Debt is not mine  \n",
      "2016-09-08                           Debt is not mine  \n",
      "2016-07-30       Not given enough info to verify debt  \n",
      "2016-09-06       Right to dispute notice not received  \n",
      "2016-08-26                              Debt was paid  \n",
      "2016-08-21       Not given enough info to verify debt  \n",
      "2016-08-22                           Debt is not mine  \n",
      "2016-08-14       Right to dispute notice not received  \n",
      "2016-05-06         Seized/Attempted to seize property  \n",
      "2016-08-21       Not given enough info to verify debt  \n",
      "2016-08-22            Threatened to take legal action  \n",
      "2016-10-07      Used obscene/profane/abusive language  \n",
      "2016-08-22                           Debt is not mine  \n",
      "2016-08-22                           Debt is not mine  \n",
      "2016-08-20                           Debt is not mine  \n",
      "2016-08-22       Not given enough info to verify debt  \n",
      "2016-08-21       Not given enough info to verify debt  \n",
      "\n",
      "[27228 rows x 4 columns]\n"
     ]
    }
   ],
   "source": [
    "import numpy as np \n",
    "import pandas as pd\n",
    "\n",
    "data_full = pd.DataFrame.from_csv(\"./data/Debt_Collection_Complaints_with_Consumer_Complaint_Narratives.csv\")\n",
    "data_transformed = data_full.loc[:,['Product','Sub-product','Issue','Sub-issue']]\n",
    "print data_transformed"
   ]
  },
  {
   "cell_type": "code",
   "execution_count": 23,
   "metadata": {
    "collapsed": false
   },
   "outputs": [
    {
     "name": "stdout",
     "output_type": "stream",
     "text": [
      "                       Product                            Sub-product  \\\n",
      "Date received                                                           \n",
      "2016-06-07     Debt collection  Other (i.e. phone, health club, etc.)   \n",
      "2016-06-07     Debt collection                                Medical   \n",
      "2016-06-07     Debt collection                                Medical   \n",
      "2016-06-07     Debt collection  Other (i.e. phone, health club, etc.)   \n",
      "2016-06-07     Debt collection                          I do not know   \n",
      "2016-06-07     Debt collection                            Credit card   \n",
      "2016-06-07     Debt collection                          I do not know   \n",
      "2016-06-07     Debt collection                                Medical   \n",
      "2016-06-07     Debt collection                            Credit card   \n",
      "2016-06-07     Debt collection                                Medical   \n",
      "2016-06-07     Debt collection                            Payday loan   \n",
      "2016-06-07     Debt collection                            Credit card   \n",
      "2016-06-07     Debt collection  Other (i.e. phone, health club, etc.)   \n",
      "2016-06-07     Debt collection                                Medical   \n",
      "2016-06-07     Debt collection  Other (i.e. phone, health club, etc.)   \n",
      "2016-06-07     Debt collection                          I do not know   \n",
      "2016-06-07     Debt collection                            Credit card   \n",
      "2016-06-07     Debt collection                            Credit card   \n",
      "2016-06-07     Debt collection                          I do not know   \n",
      "2016-06-07     Debt collection                                Medical   \n",
      "2016-06-07     Debt collection                                Medical   \n",
      "2016-06-07     Debt collection                          I do not know   \n",
      "2016-06-07     Debt collection                            Credit card   \n",
      "2016-06-07     Debt collection                          I do not know   \n",
      "2016-06-07     Debt collection                                Medical   \n",
      "2016-06-07     Debt collection  Other (i.e. phone, health club, etc.)   \n",
      "2016-06-07     Debt collection  Other (i.e. phone, health club, etc.)   \n",
      "2016-06-07     Debt collection                            Credit card   \n",
      "2016-06-07     Debt collection                          I do not know   \n",
      "2016-06-07     Debt collection                          I do not know   \n",
      "...                        ...                                    ...   \n",
      "2016-06-13     Debt collection                            Payday loan   \n",
      "2016-06-13     Debt collection                                Medical   \n",
      "2016-06-13     Debt collection  Other (i.e. phone, health club, etc.)   \n",
      "2016-06-13     Debt collection                          I do not know   \n",
      "2016-06-13     Debt collection                            Payday loan   \n",
      "2016-06-13     Debt collection  Other (i.e. phone, health club, etc.)   \n",
      "2016-06-13     Debt collection                            Credit card   \n",
      "2016-06-13     Debt collection  Other (i.e. phone, health club, etc.)   \n",
      "2016-06-13     Debt collection  Other (i.e. phone, health club, etc.)   \n",
      "2016-06-13     Debt collection                                Medical   \n",
      "2016-06-13     Debt collection                            Credit card   \n",
      "2016-06-13     Debt collection                                Medical   \n",
      "2016-06-13     Debt collection                                Medical   \n",
      "2016-06-13     Debt collection  Other (i.e. phone, health club, etc.)   \n",
      "2016-06-13     Debt collection                            Credit card   \n",
      "2016-06-13     Debt collection                   Federal student loan   \n",
      "2016-06-13     Debt collection                                Medical   \n",
      "2016-06-13     Debt collection                            Payday loan   \n",
      "2016-06-13     Debt collection  Other (i.e. phone, health club, etc.)   \n",
      "2016-06-13     Debt collection  Other (i.e. phone, health club, etc.)   \n",
      "2016-06-13     Debt collection                            Credit card   \n",
      "2016-06-13     Debt collection  Other (i.e. phone, health club, etc.)   \n",
      "2016-06-13     Debt collection  Other (i.e. phone, health club, etc.)   \n",
      "2016-06-13     Debt collection                            Credit card   \n",
      "2016-06-13     Debt collection                            Payday loan   \n",
      "2016-06-13     Debt collection                            Credit card   \n",
      "2016-06-13     Debt collection                               Mortgage   \n",
      "2016-06-13     Debt collection                                Medical   \n",
      "2016-06-13     Debt collection                            Credit card   \n",
      "2016-06-13     Debt collection                          I do not know   \n",
      "\n",
      "                                               Issue  \\\n",
      "Date received                                          \n",
      "2016-06-07           Disclosure verification of debt   \n",
      "2016-06-07     Cont'd attempts collect debt not owed   \n",
      "2016-06-07     Cont'd attempts collect debt not owed   \n",
      "2016-06-07           Disclosure verification of debt   \n",
      "2016-06-07     Cont'd attempts collect debt not owed   \n",
      "2016-06-07      Taking/threatening an illegal action   \n",
      "2016-06-07           Disclosure verification of debt   \n",
      "2016-06-07     Cont'd attempts collect debt not owed   \n",
      "2016-06-07     Cont'd attempts collect debt not owed   \n",
      "2016-06-07     Cont'd attempts collect debt not owed   \n",
      "2016-06-07                     Communication tactics   \n",
      "2016-06-07        False statements or representation   \n",
      "2016-06-07           Disclosure verification of debt   \n",
      "2016-06-07                     Communication tactics   \n",
      "2016-06-07           Disclosure verification of debt   \n",
      "2016-06-07           Disclosure verification of debt   \n",
      "2016-06-07                     Communication tactics   \n",
      "2016-06-07           Disclosure verification of debt   \n",
      "2016-06-07     Cont'd attempts collect debt not owed   \n",
      "2016-06-07           Disclosure verification of debt   \n",
      "2016-06-07     Cont'd attempts collect debt not owed   \n",
      "2016-06-07     Cont'd attempts collect debt not owed   \n",
      "2016-06-07      Taking/threatening an illegal action   \n",
      "2016-06-07     Cont'd attempts collect debt not owed   \n",
      "2016-06-07     Cont'd attempts collect debt not owed   \n",
      "2016-06-07     Cont'd attempts collect debt not owed   \n",
      "2016-06-07     Cont'd attempts collect debt not owed   \n",
      "2016-06-07      Taking/threatening an illegal action   \n",
      "2016-06-07        False statements or representation   \n",
      "2016-06-07                     Communication tactics   \n",
      "...                                              ...   \n",
      "2016-06-13                     Communication tactics   \n",
      "2016-06-13     Cont'd attempts collect debt not owed   \n",
      "2016-06-13     Cont'd attempts collect debt not owed   \n",
      "2016-06-13     Cont'd attempts collect debt not owed   \n",
      "2016-06-13      Taking/threatening an illegal action   \n",
      "2016-06-13     Cont'd attempts collect debt not owed   \n",
      "2016-06-13                     Communication tactics   \n",
      "2016-06-13     Cont'd attempts collect debt not owed   \n",
      "2016-06-13     Cont'd attempts collect debt not owed   \n",
      "2016-06-13           Disclosure verification of debt   \n",
      "2016-06-13     Cont'd attempts collect debt not owed   \n",
      "2016-06-13     Cont'd attempts collect debt not owed   \n",
      "2016-06-13                     Communication tactics   \n",
      "2016-06-13           Disclosure verification of debt   \n",
      "2016-06-13       Improper contact or sharing of info   \n",
      "2016-06-13           Disclosure verification of debt   \n",
      "2016-06-13     Cont'd attempts collect debt not owed   \n",
      "2016-06-13                     Communication tactics   \n",
      "2016-06-13     Cont'd attempts collect debt not owed   \n",
      "2016-06-13     Cont'd attempts collect debt not owed   \n",
      "2016-06-13        False statements or representation   \n",
      "2016-06-13     Cont'd attempts collect debt not owed   \n",
      "2016-06-13           Disclosure verification of debt   \n",
      "2016-06-13      Taking/threatening an illegal action   \n",
      "2016-06-13      Taking/threatening an illegal action   \n",
      "2016-06-13     Cont'd attempts collect debt not owed   \n",
      "2016-06-13           Disclosure verification of debt   \n",
      "2016-06-13        False statements or representation   \n",
      "2016-06-13      Taking/threatening an illegal action   \n",
      "2016-06-13     Cont'd attempts collect debt not owed   \n",
      "\n",
      "                                            Sub-issue  \n",
      "Date received                                          \n",
      "2016-06-07       Right to dispute notice not received  \n",
      "2016-06-07                              Debt was paid  \n",
      "2016-06-07                           Debt is not mine  \n",
      "2016-06-07       Not given enough info to verify debt  \n",
      "2016-06-07          Debt was discharged in bankruptcy  \n",
      "2016-06-07          Threatened to sue on too old debt  \n",
      "2016-06-07       Not given enough info to verify debt  \n",
      "2016-06-07                           Debt is not mine  \n",
      "2016-06-07                              Debt was paid  \n",
      "2016-06-07          Debt was discharged in bankruptcy  \n",
      "2016-06-07            Threatened to take legal action  \n",
      "2016-06-07          Attempted to collect wrong amount  \n",
      "2016-06-07       Not given enough info to verify debt  \n",
      "2016-06-07                 Frequent or repeated calls  \n",
      "2016-06-07       Not given enough info to verify debt  \n",
      "2016-06-07       Right to dispute notice not received  \n",
      "2016-06-07                 Frequent or repeated calls  \n",
      "2016-06-07       Not given enough info to verify debt  \n",
      "2016-06-07                           Debt is not mine  \n",
      "2016-06-07       Not given enough info to verify debt  \n",
      "2016-06-07                              Debt was paid  \n",
      "2016-06-07                           Debt is not mine  \n",
      "2016-06-07       Threatened arrest/jail if do not pay  \n",
      "2016-06-07                           Debt is not mine  \n",
      "2016-06-07                           Debt is not mine  \n",
      "2016-06-07          Debt was discharged in bankruptcy  \n",
      "2016-06-07                              Debt was paid  \n",
      "2016-06-07        Attempted to/Collected exempt funds  \n",
      "2016-06-07          Attempted to collect wrong amount  \n",
      "2016-06-07                 Frequent or repeated calls  \n",
      "...                                               ...  \n",
      "2016-06-13                 Frequent or repeated calls  \n",
      "2016-06-13                           Debt is not mine  \n",
      "2016-06-13                           Debt is not mine  \n",
      "2016-06-13                           Debt is not mine  \n",
      "2016-06-13          Threatened to sue on too old debt  \n",
      "2016-06-13                           Debt is not mine  \n",
      "2016-06-13                 Frequent or repeated calls  \n",
      "2016-06-13                           Debt is not mine  \n",
      "2016-06-13                           Debt is not mine  \n",
      "2016-06-13       Not given enough info to verify debt  \n",
      "2016-06-13                              Debt was paid  \n",
      "2016-06-13                              Debt was paid  \n",
      "2016-06-13                 Frequent or repeated calls  \n",
      "2016-06-13     Not disclosed as an attempt to collect  \n",
      "2016-06-13      Contacted employer after asked not to  \n",
      "2016-06-13       Not given enough info to verify debt  \n",
      "2016-06-13                           Debt is not mine  \n",
      "2016-06-13                 Frequent or repeated calls  \n",
      "2016-06-13                              Debt was paid  \n",
      "2016-06-13                              Debt was paid  \n",
      "2016-06-13          Attempted to collect wrong amount  \n",
      "2016-06-13                           Debt is not mine  \n",
      "2016-06-13       Right to dispute notice not received  \n",
      "2016-06-13          Threatened to sue on too old debt  \n",
      "2016-06-13       Sued w/o proper notification of suit  \n",
      "2016-06-13                              Debt was paid  \n",
      "2016-06-13       Not given enough info to verify debt  \n",
      "2016-06-13          Attempted to collect wrong amount  \n",
      "2016-06-13          Threatened to sue on too old debt  \n",
      "2016-06-13                           Debt is not mine  \n",
      "\n",
      "[171961 rows x 4 columns]\n"
     ]
    }
   ],
   "source": [
    "df_train_ix = np.random.choice(data_transformed.index, 3000,replace=False)\n",
    "df_train = data_transformed.ix[df_train_ix]\n",
    "print df_train"
   ]
  },
  {
   "cell_type": "markdown",
   "metadata": {},
   "source": [
    "### HINTS\n",
    "\n",
    "##### RESTRICTING DATAFRAME COLUMNS\n",
    "Recall an easy way to restrict the columns of a dataframe :\n",
    "\n",
    "```python\n",
    "df[['col1', 'col2', 'coln']]\n",
    "```\n",
    "\n",
    "returns the dataframe with just `col1`, `col2`, ...\n",
    "\n",
    "##### RANDOM NUMBERS IN NUMPY\n",
    "Explore [`numpy.random.choice`](http://docs.scipy.org/doc/numpy/reference/generated/numpy.random.choice.html) which should help you understand how to obtain 3000 random numbers within the row  index range of your data.  Pay attention to the `replace` parameter so you do not get duplicates.\n",
    "\n",
    "You will store this because it will be needed again later -- maybe use the variable `train_idxs`.\n",
    "\n",
    "##### USING `DATAFRAME.IX[list_of_indices]` TO GET A SET OF ROWS BY INDEX\n",
    "\n",
    "Review the [Pandas docs on selecting data](http://pandas.pydata.org/pandas-docs/stable/indexing.html) to learn about `ix`.\n",
    "\n",
    "Consider what this example does,\n",
    "\n",
    "```python\n",
    "# assume df is a Dataframe with data in it\n",
    "\n",
    "train_idxs = [0, 9, 14]\n",
    "df.ix[train_idxs] \n",
    "# returns the dataframe with row 1, 10, 15\n",
    "```"
   ]
  },
  {
   "cell_type": "markdown",
   "metadata": {},
   "source": [
    "### &#167; Notice that the data are all categorical.  Most algorithms required a little work to get the data into a form that can be easily used.  Binarize `df_train` so that is it ready to be used in most typical scenarios.\n",
    "\n",
    "#### HINTS\n",
    "\n",
    "**label_binarize**\n",
    "One way to do this is to explore  [label_binarize](http://scikit-learn.org/stable/modules/generated/sklearn.preprocessing.label_binarize.html).  You will need to write a lot more code (fewer than 10 lines) but you can do it.\n",
    "\n",
    "**DictVectorizer**\n",
    "Another way is to use [`DictVectorizer`](http://scikit-learn.org/stable/modules/generated/sklearn.feature_extraction.DictVectorizer.html) which is part of the feature extraction library of Scikit-learn.  \n",
    "\n",
    "You should see how this trick is done from [http://fastml.com/converting-categorical-data-into-numbers-with-pandas-and-scikit-learn/](http://fastml.com/converting-categorical-data-into-numbers-with-pandas-and-scikit-learn/) as inspiration for your solution.\n"
   ]
  },
  {
   "cell_type": "code",
   "execution_count": 32,
   "metadata": {
    "collapsed": false
   },
   "outputs": [],
   "source": [
    "dft_train= pd.get_dummies(df_train)\n",
    "labels_series = pd.Series()\n",
    "labels = data_full.loc[df_train_ix,['Company response to consumer']]\n",
    "\n",
    "labels_series = labels.squeeze() \n",
    "labels_series = labels_series.unique()"
   ]
  },
  {
   "cell_type": "markdown",
   "metadata": {},
   "source": [
    "Now your data is ready! We are going to use the data to build a decision tree to classify the company response.  We might be able to use this data, for example, to understand which future compaints may need more attention by the agency.  If we build a good classifier, we might just be able to reduce the time, cost and staff stress.\n",
    "\n",
    "### &#167; Build a DecisionTree from the training data in df_train.\n",
    "\n",
    "\n",
    "#### HINTS\n",
    "\n",
    "**DecisionTreeClassifier**\n",
    "\n",
    "You will most certainly need to use [sklearn.tree.DecisionTreeClassifier](http://scikit-learn.org/stable/modules/generated/sklearn.tree.DecisionTreeClassifier.html). Read up on this classfier and use it with `df_train`.\n",
    "\n",
    "**Labeled data**\n",
    "\n",
    "Your classifier is going to be more interesting if it can distinguish between the different classes of company response.\n",
    "\n",
    "To get all the labels (for all your df rows WITH THE SAME INDEX AS YOUR TRAINING DATA):\n",
    "\n",
    "```python\n",
    "df[['Company response to consumer']].ix[[]]\n",
    "```\n",
    "\n",
    "should do the trick.  But this will get them for all rows.\n",
    "\n",
    "Explore [Pandas.unique](http://pandas.pydata.org/pandas-docs/stable/generated/pandas.Series.unique.html) to understand just how to get the set of labels you need.\n",
    "\n",
    "### &#167; Draw the decision tree.\n",
    "\n",
    "#### HINTS\n",
    "\n",
    "**You can use the code from the demo in scikit-learn or build your own**\n",
    "\n",
    "Use these to help you understand the code snippet below:\n",
    "* `dtc` is your decision tree from the above\n",
    "* `DV.feature_names_` is the DictVectorizer from above\n",
    "* `target_names` are the class names\n",
    "\n",
    "``` python\n",
    "from IPython.display import Image\n",
    "import pydotplus\n",
    "\n",
    "dot_data = tree.export_graphviz(dtc, out_file=\"tree.dot\", \n",
    "                         feature_names=DV.feature_names_,  \n",
    "                         class_names=target_names,  \n",
    "                         filled=True, rounded=True,  \n",
    "                         special_characters=True) \n",
    "\n",
    "graph = pydotplus.graph_from_dot_file(\"tree.dot\")  \n",
    "graph.write_png(\"tree.png\")\n",
    "```\n",
    "\n",
    "### &#167; Look at the decision tree (stored in your PNG file). List 2 reasons why this WOULD or WOULD NOT be a good classifier for the company response. Turn in your PNG file along with your IPYNB file.\n",
    "\n",
    "### &#167; Compute the Precision and Recall for this classifier - remember you will need to test on data you have not already seen!\n",
    "\n",
    "#### HINTS\n",
    "Instead of only pulling 3000 data points you might pull 6000 ad split -- using 3000 for test and 3000 for training.  There are, of course, other ways to do it as discussed in class.\n",
    "\n",
    "* You could consider Scikit-learn's [`model_selection.train_test_split()`](http://scikit-learn.org/stable/modules/generated/sklearn.model_selection.train_test_split.html#sklearn.model_selection.train_test_split);\n",
    "\n",
    "* You will need to understand how [`DecisionTreeClassifier.predict()`](http://scikit-learn.org/stable/modules/generated/sklearn.tree.DecisionTreeClassifier.html#sklearn.tree.DecisionTreeClassifier.predict) works;\n",
    "\n",
    "* You might want to explore the [metrics capabilities of Scikit-learn](http://scikit-learn.org/stable/modules/classes.html#module-sklearn.metrics) -- especially the `confusion_matrix()`, `precision_score()` and `recall_score()` methods.\n"
   ]
  },
  {
   "cell_type": "code",
   "execution_count": 34,
   "metadata": {
    "collapsed": false
   },
   "outputs": [
    {
     "name": "stdout",
     "output_type": "stream",
     "text": [
      "DecisionTreeClassifier(class_weight=None, criterion='gini', max_depth=None,\n",
      "            max_features=None, max_leaf_nodes=None, min_samples_leaf=1,\n",
      "            min_samples_split=2, min_weight_fraction_leaf=0.0,\n",
      "            presort=False, random_state=None, splitter='best')\n",
      "None\n"
     ]
    },
    {
     "ename": "AttributeError",
     "evalue": "'NoneType' object has no attribute 'startswith'",
     "output_type": "error",
     "traceback": [
      "\u001b[0;31m---------------------------------------------------------------------------\u001b[0m",
      "\u001b[0;31mAttributeError\u001b[0m                            Traceback (most recent call last)",
      "\u001b[0;32m<ipython-input-34-a3aa9d66c6f6>\u001b[0m in \u001b[0;36m<module>\u001b[0;34m()\u001b[0m\n\u001b[1;32m      9\u001b[0m \u001b[1;32mprint\u001b[0m \u001b[0mdot_data\u001b[0m\u001b[1;33m\u001b[0m\u001b[0m\n\u001b[1;32m     10\u001b[0m \u001b[1;33m\u001b[0m\u001b[0m\n\u001b[0;32m---> 11\u001b[0;31m \u001b[0mgraph\u001b[0m \u001b[1;33m=\u001b[0m \u001b[0mpydotplus\u001b[0m\u001b[1;33m.\u001b[0m\u001b[0mgraph_from_dot_data\u001b[0m\u001b[1;33m(\u001b[0m\u001b[0mdot_data\u001b[0m\u001b[1;33m)\u001b[0m\u001b[1;33m\u001b[0m\u001b[0m\n\u001b[0m\u001b[1;32m     12\u001b[0m \u001b[0mImage\u001b[0m\u001b[1;33m(\u001b[0m\u001b[0mgraph\u001b[0m\u001b[1;33m.\u001b[0m\u001b[0mcreate_png\u001b[0m\u001b[1;33m(\u001b[0m\u001b[1;33m)\u001b[0m\u001b[1;33m)\u001b[0m\u001b[1;33m\u001b[0m\u001b[0m\n",
      "\u001b[0;32mC:\\Users\\Sosa\\Anaconda2\\lib\\site-packages\\pydotplus\\graphviz.pyc\u001b[0m in \u001b[0;36mgraph_from_dot_data\u001b[0;34m(data)\u001b[0m\n\u001b[1;32m    300\u001b[0m     \"\"\"\n\u001b[1;32m    301\u001b[0m \u001b[1;33m\u001b[0m\u001b[0m\n\u001b[0;32m--> 302\u001b[0;31m     \u001b[1;32mreturn\u001b[0m \u001b[0mparser\u001b[0m\u001b[1;33m.\u001b[0m\u001b[0mparse_dot_data\u001b[0m\u001b[1;33m(\u001b[0m\u001b[0mdata\u001b[0m\u001b[1;33m)\u001b[0m\u001b[1;33m\u001b[0m\u001b[0m\n\u001b[0m\u001b[1;32m    303\u001b[0m \u001b[1;33m\u001b[0m\u001b[0m\n\u001b[1;32m    304\u001b[0m \u001b[1;33m\u001b[0m\u001b[0m\n",
      "\u001b[0;32mC:\\Users\\Sosa\\Anaconda2\\lib\\site-packages\\pydotplus\\parser.pyc\u001b[0m in \u001b[0;36mparse_dot_data\u001b[0;34m(data)\u001b[0m\n\u001b[1;32m    546\u001b[0m                 \u001b[0mdata\u001b[0m \u001b[1;33m=\u001b[0m \u001b[0mdata\u001b[0m\u001b[1;33m.\u001b[0m\u001b[0mdecode\u001b[0m\u001b[1;33m(\u001b[0m\u001b[1;34m'utf-8'\u001b[0m\u001b[1;33m)\u001b[0m\u001b[1;33m\u001b[0m\u001b[0m\n\u001b[1;32m    547\u001b[0m     \u001b[1;32melse\u001b[0m\u001b[1;33m:\u001b[0m\u001b[1;33m\u001b[0m\u001b[0m\n\u001b[0;32m--> 548\u001b[0;31m         \u001b[1;32mif\u001b[0m \u001b[0mdata\u001b[0m\u001b[1;33m.\u001b[0m\u001b[0mstartswith\u001b[0m\u001b[1;33m(\u001b[0m\u001b[0mcodecs\u001b[0m\u001b[1;33m.\u001b[0m\u001b[0mBOM_UTF8\u001b[0m\u001b[1;33m)\u001b[0m\u001b[1;33m:\u001b[0m\u001b[1;33m\u001b[0m\u001b[0m\n\u001b[0m\u001b[1;32m    549\u001b[0m             \u001b[0mdata\u001b[0m \u001b[1;33m=\u001b[0m \u001b[0mdata\u001b[0m\u001b[1;33m.\u001b[0m\u001b[0mdecode\u001b[0m\u001b[1;33m(\u001b[0m\u001b[1;34m'utf-8'\u001b[0m\u001b[1;33m)\u001b[0m\u001b[1;33m\u001b[0m\u001b[0m\n\u001b[1;32m    550\u001b[0m \u001b[1;33m\u001b[0m\u001b[0m\n",
      "\u001b[0;31mAttributeError\u001b[0m: 'NoneType' object has no attribute 'startswith'"
     ]
    }
   ],
   "source": [
    "from sklearn import tree\n",
    "import pydotplus \n",
    "from IPython.display import Image \n",
    "\n",
    "dtc = tree.DecisionTreeClassifier()\n",
    "dtc = dtc.fit(dft_train,labels)\n",
    "print dtc\n",
    "dot_data = tree.export_graphviz(dtc)\n",
    "print dot_data\n",
    "\n",
    "graph = pydotplus.graph_from_dot_data(dot_data)  \n",
    "Image(graph.create_png())"
   ]
  },
  {
   "cell_type": "code",
   "execution_count": null,
   "metadata": {
    "collapsed": true
   },
   "outputs": [],
   "source": []
  },
  {
   "cell_type": "code",
   "execution_count": null,
   "metadata": {
    "collapsed": false
   },
   "outputs": [],
   "source": [
    "!jupyter nbconvert Homework2.ipynb --to markdown\n",
    "!pandoc Homework2.md --template svm-latex-ms.tex -o Homework2.pdf"
   ]
  }
 ],
 "metadata": {
  "anaconda-cloud": {},
  "kernelspec": {
   "display_name": "Python [Root]",
   "language": "python",
   "name": "Python [Root]"
  },
  "language_info": {
   "codemirror_mode": {
    "name": "ipython",
    "version": 2
   },
   "file_extension": ".py",
   "mimetype": "text/x-python",
   "name": "python",
   "nbconvert_exporter": "python",
   "pygments_lexer": "ipython2",
   "version": "2.7.12"
  }
 },
 "nbformat": 4,
 "nbformat_minor": 0
}
